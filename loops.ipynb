{
  "nbformat": 4,
  "nbformat_minor": 0,
  "metadata": {
    "colab": {
      "name": "loops.ipynb",
      "provenance": []
    },
    "kernelspec": {
      "name": "python3",
      "display_name": "Python 3"
    },
    "language_info": {
      "name": "python"
    }
  },
  "cells": [
    {
      "cell_type": "markdown",
      "source": [
        "#Loops"
      ],
      "metadata": {
        "id": "lsZHZKMAtxlm"
      }
    },
    {
      "cell_type": "code",
      "source": [
        "res=0\n",
        "for i in range (1,36) :\n",
        "  res = res + i\n",
        "  i += 1\n",
        "print (res)  \n",
        "\n"
      ],
      "metadata": {
        "colab": {
          "base_uri": "https://localhost:8080/"
        },
        "id": "vJ2W96fKTy-R",
        "outputId": "c2f5fae6-976f-499c-911c-986f46e1f384"
      },
      "execution_count": null,
      "outputs": [
        {
          "output_type": "stream",
          "name": "stdout",
          "text": [
            "630\n"
          ]
        }
      ]
    },
    {
      "cell_type": "code",
      "source": [
        "a = 1\n",
        "res = 0\n",
        "while a < 36 :\n",
        "  res = res + a\n",
        "  a += 1\n",
        "print(res)  "
      ],
      "metadata": {
        "colab": {
          "base_uri": "https://localhost:8080/"
        },
        "id": "eV9S-4B0Vy-i",
        "outputId": "e4179271-ca82-47e8-f688-42762bd64bee"
      },
      "execution_count": null,
      "outputs": [
        {
          "output_type": "stream",
          "name": "stdout",
          "text": [
            "630\n"
          ]
        }
      ]
    }
  ]
}